{
 "cells": [
  {
   "cell_type": "markdown",
   "metadata": {
    "id": "FNySfomU9yRB"
   },
   "source": [
    "# Notebook 6 - Neural Networks (MLP)"
   ]
  },
  {
   "cell_type": "markdown",
   "metadata": {
    "id": "pkpctPHb9yRE"
   },
   "source": [
    "CSI4106 Artificial Intelligence  \n",
    "Fall 2021. \\\n",
    "Version 1 (2020) prepared by Julian Templeton and Caroline Barrière.  Version 2 (2021) modified by Caroline Barrière."
   ]
  },
  {
   "cell_type": "markdown",
   "metadata": {
    "id": "IyAG5k5U9yRE"
   },
   "source": [
    "***INTRODUCTION***:  \n",
    "\n",
    "We are going into the medical domain for this notebook. The supervised classification task tackled in this notebook is about diabetes patient readmission to a hospital, provided a certain set of features describing their physical state, the procedure they went through during their stay, the medications they take, etc.\n",
    "\n",
    "Any *readmitted patient* is very costly for a medical system. It shows to some extent, that the patient was discharged before having fully recovered. The dataset we explore splits readmission into 3 values: before 30 days, after 30 days, and none.  Understanding what conditions brings patients back to the hospital within 30 days is very important for a medical system, as these cases should be minimized.\n",
    "\n",
    "This notebook will allow you to pursue your understanding of experimental set-up for supervised machine learning, in particular supervised classification through the use of multi-layer perceptrons.\n",
    "\n",
    "We will make use of three packages: (1) **scikit-learn**, a great machine learning package, which you've experimented with in the last notebook, (2) **pandas**, a must-have for data science, and (3) **matplotlib** which is a great plotting library (pip install matplotlib).  Make sure you have the LATEST version of scikit-learn (at least version >= 0.20), otherwise some functions (the one-hot-encoder) will not work.\n",
    "\n",
    "As mentioned for the previous notebooks, you always have the option of using Colab if a local installation causes you problems.\n",
    "\n",
    "*PLEASE NOTE:* As this is your 6th notebook this semester, some instructions will be a bit less explicit and may require looking at some online official documentation. You are also given more freedom in the way you code your answers. If you make any assumptions to answer some questions, make sure to state them, so they will be taken into account by the correctors."
   ]
  },
  {
   "cell_type": "markdown",
   "metadata": {
    "id": "MAU16pzK9yRF"
   },
   "source": [
    "***HOMEWORK***:  \n",
    "Go through the notebook by running each cell, one at a time.  \n",
    "\n",
    "Look for **(TO DO)** for the tasks that you need to perform. Do not edit the code outside of the questions which you are asked to answer unless specifically asked. Once you're done, sign the notebook, change the name to StudentNumber-LastName-Notebook6.ipynb, and submit it.  \n",
    "\n",
    "*The notebook will be marked on 30.  \n",
    "Each **(TO DO)** has a number of points associated with it.*\n",
    "***"
   ]
  },
  {
   "cell_type": "markdown",
   "metadata": {
    "id": "sQyylN8O9yRF"
   },
   "source": [
    "**1. Obtaining the dataset**\n",
    "\n",
    "First, read the description of the dataset on Diabetes Readmission (https://www.kaggle.com/brandao/diabetes).\n",
    "\n",
    "Next download the dataset from the UCI archive (click *Data Folder* --> download *dataset_diabetes.zip*):\n",
    "https://archive.ics.uci.edu/ml/datasets/Diabetes+130-US+hospitals+for+years+1999-2008\n",
    "\n",
    "Unzip the file *dataset_diabetes.zip* and there should be a file called *diabetic_data.csv* which we will use for our experiments. "
   ]
  },
  {
   "cell_type": "markdown",
   "metadata": {
    "id": "ABhNjcd-9yRG"
   },
   "source": [
    "**2. Exploring the dataset**  \n",
    "We will use the package *pandas* to read the csv file. Pandas will create a data structure called a dataframe, which will contain all the data. \n",
    "\n",
    "If you get some errors when you import the packages, it's because they are not installed... make sure you do *pip install package_name* (or whichever method you have been using to install the packages) at the command prompt to have access to these packages."
   ]
  },
  {
   "cell_type": "code",
   "execution_count": 33,
   "metadata": {
    "id": "2Mwvs17C9yRH"
   },
   "outputs": [],
   "source": [
    "# Import the required packages for data analysis and machine learning\n",
    "import pandas as pd\n",
    "import sklearn\n",
    "import matplotlib.pyplot as plt"
   ]
  },
  {
   "cell_type": "markdown",
   "metadata": {
    "id": "gW13g1Ui9yRI"
   },
   "source": [
    "The following code reads the csv file into a dataframe and shows the top ten rows from the read data.  \n",
    "Note that ? means that the value is *missing* from the dataset for a particular attribute.  \n",
    "We then look at all the attributes (to understand their meaning, refer to the Kaggle site, as mentioned in the introduction)."
   ]
  },
  {
   "cell_type": "code",
   "execution_count": 34,
   "metadata": {
    "id": "Jy1FDDej9yRJ"
   },
   "outputs": [
    {
     "data": {
      "text/html": [
       "<div>\n",
       "<style scoped>\n",
       "    .dataframe tbody tr th:only-of-type {\n",
       "        vertical-align: middle;\n",
       "    }\n",
       "\n",
       "    .dataframe tbody tr th {\n",
       "        vertical-align: top;\n",
       "    }\n",
       "\n",
       "    .dataframe thead th {\n",
       "        text-align: right;\n",
       "    }\n",
       "</style>\n",
       "<table border=\"1\" class=\"dataframe\">\n",
       "  <thead>\n",
       "    <tr style=\"text-align: right;\">\n",
       "      <th></th>\n",
       "      <th>encounter_id</th>\n",
       "      <th>patient_nbr</th>\n",
       "      <th>race</th>\n",
       "      <th>gender</th>\n",
       "      <th>age</th>\n",
       "      <th>weight</th>\n",
       "      <th>admission_type_id</th>\n",
       "      <th>discharge_disposition_id</th>\n",
       "      <th>admission_source_id</th>\n",
       "      <th>time_in_hospital</th>\n",
       "      <th>...</th>\n",
       "      <th>citoglipton</th>\n",
       "      <th>insulin</th>\n",
       "      <th>glyburide-metformin</th>\n",
       "      <th>glipizide-metformin</th>\n",
       "      <th>glimepiride-pioglitazone</th>\n",
       "      <th>metformin-rosiglitazone</th>\n",
       "      <th>metformin-pioglitazone</th>\n",
       "      <th>change</th>\n",
       "      <th>diabetesMed</th>\n",
       "      <th>readmitted</th>\n",
       "    </tr>\n",
       "  </thead>\n",
       "  <tbody>\n",
       "    <tr>\n",
       "      <th>0</th>\n",
       "      <td>2278392</td>\n",
       "      <td>8222157</td>\n",
       "      <td>Caucasian</td>\n",
       "      <td>Female</td>\n",
       "      <td>[0-10)</td>\n",
       "      <td>?</td>\n",
       "      <td>6</td>\n",
       "      <td>25</td>\n",
       "      <td>1</td>\n",
       "      <td>1</td>\n",
       "      <td>...</td>\n",
       "      <td>No</td>\n",
       "      <td>No</td>\n",
       "      <td>No</td>\n",
       "      <td>No</td>\n",
       "      <td>No</td>\n",
       "      <td>No</td>\n",
       "      <td>No</td>\n",
       "      <td>No</td>\n",
       "      <td>No</td>\n",
       "      <td>NO</td>\n",
       "    </tr>\n",
       "    <tr>\n",
       "      <th>1</th>\n",
       "      <td>149190</td>\n",
       "      <td>55629189</td>\n",
       "      <td>Caucasian</td>\n",
       "      <td>Female</td>\n",
       "      <td>[10-20)</td>\n",
       "      <td>?</td>\n",
       "      <td>1</td>\n",
       "      <td>1</td>\n",
       "      <td>7</td>\n",
       "      <td>3</td>\n",
       "      <td>...</td>\n",
       "      <td>No</td>\n",
       "      <td>Up</td>\n",
       "      <td>No</td>\n",
       "      <td>No</td>\n",
       "      <td>No</td>\n",
       "      <td>No</td>\n",
       "      <td>No</td>\n",
       "      <td>Ch</td>\n",
       "      <td>Yes</td>\n",
       "      <td>&gt;30</td>\n",
       "    </tr>\n",
       "    <tr>\n",
       "      <th>2</th>\n",
       "      <td>64410</td>\n",
       "      <td>86047875</td>\n",
       "      <td>AfricanAmerican</td>\n",
       "      <td>Female</td>\n",
       "      <td>[20-30)</td>\n",
       "      <td>?</td>\n",
       "      <td>1</td>\n",
       "      <td>1</td>\n",
       "      <td>7</td>\n",
       "      <td>2</td>\n",
       "      <td>...</td>\n",
       "      <td>No</td>\n",
       "      <td>No</td>\n",
       "      <td>No</td>\n",
       "      <td>No</td>\n",
       "      <td>No</td>\n",
       "      <td>No</td>\n",
       "      <td>No</td>\n",
       "      <td>No</td>\n",
       "      <td>Yes</td>\n",
       "      <td>NO</td>\n",
       "    </tr>\n",
       "    <tr>\n",
       "      <th>3</th>\n",
       "      <td>500364</td>\n",
       "      <td>82442376</td>\n",
       "      <td>Caucasian</td>\n",
       "      <td>Male</td>\n",
       "      <td>[30-40)</td>\n",
       "      <td>?</td>\n",
       "      <td>1</td>\n",
       "      <td>1</td>\n",
       "      <td>7</td>\n",
       "      <td>2</td>\n",
       "      <td>...</td>\n",
       "      <td>No</td>\n",
       "      <td>Up</td>\n",
       "      <td>No</td>\n",
       "      <td>No</td>\n",
       "      <td>No</td>\n",
       "      <td>No</td>\n",
       "      <td>No</td>\n",
       "      <td>Ch</td>\n",
       "      <td>Yes</td>\n",
       "      <td>NO</td>\n",
       "    </tr>\n",
       "    <tr>\n",
       "      <th>4</th>\n",
       "      <td>16680</td>\n",
       "      <td>42519267</td>\n",
       "      <td>Caucasian</td>\n",
       "      <td>Male</td>\n",
       "      <td>[40-50)</td>\n",
       "      <td>?</td>\n",
       "      <td>1</td>\n",
       "      <td>1</td>\n",
       "      <td>7</td>\n",
       "      <td>1</td>\n",
       "      <td>...</td>\n",
       "      <td>No</td>\n",
       "      <td>Steady</td>\n",
       "      <td>No</td>\n",
       "      <td>No</td>\n",
       "      <td>No</td>\n",
       "      <td>No</td>\n",
       "      <td>No</td>\n",
       "      <td>Ch</td>\n",
       "      <td>Yes</td>\n",
       "      <td>NO</td>\n",
       "    </tr>\n",
       "    <tr>\n",
       "      <th>5</th>\n",
       "      <td>35754</td>\n",
       "      <td>82637451</td>\n",
       "      <td>Caucasian</td>\n",
       "      <td>Male</td>\n",
       "      <td>[50-60)</td>\n",
       "      <td>?</td>\n",
       "      <td>2</td>\n",
       "      <td>1</td>\n",
       "      <td>2</td>\n",
       "      <td>3</td>\n",
       "      <td>...</td>\n",
       "      <td>No</td>\n",
       "      <td>Steady</td>\n",
       "      <td>No</td>\n",
       "      <td>No</td>\n",
       "      <td>No</td>\n",
       "      <td>No</td>\n",
       "      <td>No</td>\n",
       "      <td>No</td>\n",
       "      <td>Yes</td>\n",
       "      <td>&gt;30</td>\n",
       "    </tr>\n",
       "    <tr>\n",
       "      <th>6</th>\n",
       "      <td>55842</td>\n",
       "      <td>84259809</td>\n",
       "      <td>Caucasian</td>\n",
       "      <td>Male</td>\n",
       "      <td>[60-70)</td>\n",
       "      <td>?</td>\n",
       "      <td>3</td>\n",
       "      <td>1</td>\n",
       "      <td>2</td>\n",
       "      <td>4</td>\n",
       "      <td>...</td>\n",
       "      <td>No</td>\n",
       "      <td>Steady</td>\n",
       "      <td>No</td>\n",
       "      <td>No</td>\n",
       "      <td>No</td>\n",
       "      <td>No</td>\n",
       "      <td>No</td>\n",
       "      <td>Ch</td>\n",
       "      <td>Yes</td>\n",
       "      <td>NO</td>\n",
       "    </tr>\n",
       "    <tr>\n",
       "      <th>7</th>\n",
       "      <td>63768</td>\n",
       "      <td>114882984</td>\n",
       "      <td>Caucasian</td>\n",
       "      <td>Male</td>\n",
       "      <td>[70-80)</td>\n",
       "      <td>?</td>\n",
       "      <td>1</td>\n",
       "      <td>1</td>\n",
       "      <td>7</td>\n",
       "      <td>5</td>\n",
       "      <td>...</td>\n",
       "      <td>No</td>\n",
       "      <td>No</td>\n",
       "      <td>No</td>\n",
       "      <td>No</td>\n",
       "      <td>No</td>\n",
       "      <td>No</td>\n",
       "      <td>No</td>\n",
       "      <td>No</td>\n",
       "      <td>Yes</td>\n",
       "      <td>&gt;30</td>\n",
       "    </tr>\n",
       "    <tr>\n",
       "      <th>8</th>\n",
       "      <td>12522</td>\n",
       "      <td>48330783</td>\n",
       "      <td>Caucasian</td>\n",
       "      <td>Female</td>\n",
       "      <td>[80-90)</td>\n",
       "      <td>?</td>\n",
       "      <td>2</td>\n",
       "      <td>1</td>\n",
       "      <td>4</td>\n",
       "      <td>13</td>\n",
       "      <td>...</td>\n",
       "      <td>No</td>\n",
       "      <td>Steady</td>\n",
       "      <td>No</td>\n",
       "      <td>No</td>\n",
       "      <td>No</td>\n",
       "      <td>No</td>\n",
       "      <td>No</td>\n",
       "      <td>Ch</td>\n",
       "      <td>Yes</td>\n",
       "      <td>NO</td>\n",
       "    </tr>\n",
       "    <tr>\n",
       "      <th>9</th>\n",
       "      <td>15738</td>\n",
       "      <td>63555939</td>\n",
       "      <td>Caucasian</td>\n",
       "      <td>Female</td>\n",
       "      <td>[90-100)</td>\n",
       "      <td>?</td>\n",
       "      <td>3</td>\n",
       "      <td>3</td>\n",
       "      <td>4</td>\n",
       "      <td>12</td>\n",
       "      <td>...</td>\n",
       "      <td>No</td>\n",
       "      <td>Steady</td>\n",
       "      <td>No</td>\n",
       "      <td>No</td>\n",
       "      <td>No</td>\n",
       "      <td>No</td>\n",
       "      <td>No</td>\n",
       "      <td>Ch</td>\n",
       "      <td>Yes</td>\n",
       "      <td>NO</td>\n",
       "    </tr>\n",
       "  </tbody>\n",
       "</table>\n",
       "<p>10 rows × 50 columns</p>\n",
       "</div>"
      ],
      "text/plain": [
       "   encounter_id  patient_nbr             race  gender       age weight  \\\n",
       "0       2278392      8222157        Caucasian  Female    [0-10)      ?   \n",
       "1        149190     55629189        Caucasian  Female   [10-20)      ?   \n",
       "2         64410     86047875  AfricanAmerican  Female   [20-30)      ?   \n",
       "3        500364     82442376        Caucasian    Male   [30-40)      ?   \n",
       "4         16680     42519267        Caucasian    Male   [40-50)      ?   \n",
       "5         35754     82637451        Caucasian    Male   [50-60)      ?   \n",
       "6         55842     84259809        Caucasian    Male   [60-70)      ?   \n",
       "7         63768    114882984        Caucasian    Male   [70-80)      ?   \n",
       "8         12522     48330783        Caucasian  Female   [80-90)      ?   \n",
       "9         15738     63555939        Caucasian  Female  [90-100)      ?   \n",
       "\n",
       "   admission_type_id  discharge_disposition_id  admission_source_id  \\\n",
       "0                  6                        25                    1   \n",
       "1                  1                         1                    7   \n",
       "2                  1                         1                    7   \n",
       "3                  1                         1                    7   \n",
       "4                  1                         1                    7   \n",
       "5                  2                         1                    2   \n",
       "6                  3                         1                    2   \n",
       "7                  1                         1                    7   \n",
       "8                  2                         1                    4   \n",
       "9                  3                         3                    4   \n",
       "\n",
       "   time_in_hospital  ... citoglipton insulin  glyburide-metformin  \\\n",
       "0                 1  ...          No      No                   No   \n",
       "1                 3  ...          No      Up                   No   \n",
       "2                 2  ...          No      No                   No   \n",
       "3                 2  ...          No      Up                   No   \n",
       "4                 1  ...          No  Steady                   No   \n",
       "5                 3  ...          No  Steady                   No   \n",
       "6                 4  ...          No  Steady                   No   \n",
       "7                 5  ...          No      No                   No   \n",
       "8                13  ...          No  Steady                   No   \n",
       "9                12  ...          No  Steady                   No   \n",
       "\n",
       "   glipizide-metformin  glimepiride-pioglitazone  metformin-rosiglitazone  \\\n",
       "0                   No                        No                       No   \n",
       "1                   No                        No                       No   \n",
       "2                   No                        No                       No   \n",
       "3                   No                        No                       No   \n",
       "4                   No                        No                       No   \n",
       "5                   No                        No                       No   \n",
       "6                   No                        No                       No   \n",
       "7                   No                        No                       No   \n",
       "8                   No                        No                       No   \n",
       "9                   No                        No                       No   \n",
       "\n",
       "   metformin-pioglitazone  change diabetesMed readmitted  \n",
       "0                      No      No          No         NO  \n",
       "1                      No      Ch         Yes        >30  \n",
       "2                      No      No         Yes         NO  \n",
       "3                      No      Ch         Yes         NO  \n",
       "4                      No      Ch         Yes         NO  \n",
       "5                      No      No         Yes        >30  \n",
       "6                      No      Ch         Yes         NO  \n",
       "7                      No      No         Yes        >30  \n",
       "8                      No      Ch         Yes         NO  \n",
       "9                      No      Ch         Yes         NO  \n",
       "\n",
       "[10 rows x 50 columns]"
      ]
     },
     "execution_count": 34,
     "metadata": {},
     "output_type": "execute_result"
    }
   ],
   "source": [
    "# Read the dataset, show top ten rows\n",
    "X = pd.read_csv(\"diabetic_data.csv\")\n",
    "X.head(10)"
   ]
  },
  {
   "cell_type": "code",
   "execution_count": 35,
   "metadata": {
    "id": "012oRbxK9yRJ"
   },
   "outputs": [
    {
     "data": {
      "text/plain": [
       "['encounter_id',\n",
       " 'patient_nbr',\n",
       " 'race',\n",
       " 'gender',\n",
       " 'age',\n",
       " 'weight',\n",
       " 'admission_type_id',\n",
       " 'discharge_disposition_id',\n",
       " 'admission_source_id',\n",
       " 'time_in_hospital',\n",
       " 'payer_code',\n",
       " 'medical_specialty',\n",
       " 'num_lab_procedures',\n",
       " 'num_procedures',\n",
       " 'num_medications',\n",
       " 'number_outpatient',\n",
       " 'number_emergency',\n",
       " 'number_inpatient',\n",
       " 'diag_1',\n",
       " 'diag_2',\n",
       " 'diag_3',\n",
       " 'number_diagnoses',\n",
       " 'max_glu_serum',\n",
       " 'A1Cresult',\n",
       " 'metformin',\n",
       " 'repaglinide',\n",
       " 'nateglinide',\n",
       " 'chlorpropamide',\n",
       " 'glimepiride',\n",
       " 'acetohexamide',\n",
       " 'glipizide',\n",
       " 'glyburide',\n",
       " 'tolbutamide',\n",
       " 'pioglitazone',\n",
       " 'rosiglitazone',\n",
       " 'acarbose',\n",
       " 'miglitol',\n",
       " 'troglitazone',\n",
       " 'tolazamide',\n",
       " 'examide',\n",
       " 'citoglipton',\n",
       " 'insulin',\n",
       " 'glyburide-metformin',\n",
       " 'glipizide-metformin',\n",
       " 'glimepiride-pioglitazone',\n",
       " 'metformin-rosiglitazone',\n",
       " 'metformin-pioglitazone',\n",
       " 'change',\n",
       " 'diabetesMed',\n",
       " 'readmitted']"
      ]
     },
     "execution_count": 35,
     "metadata": {},
     "output_type": "execute_result"
    }
   ],
   "source": [
    "# Show all attributes\n",
    "list(X)"
   ]
  },
  {
   "cell_type": "code",
   "execution_count": 4,
   "metadata": {
    "id": "tZCV2olV9yRK"
   },
   "outputs": [
    {
     "name": "stdout",
     "output_type": "stream",
     "text": [
      "(101766, 50)\n",
      "Caucasian          76099\n",
      "AfricanAmerican    19210\n",
      "?                   2273\n",
      "Hispanic            2037\n",
      "Other               1506\n",
      "Asian                641\n",
      "Name: race, dtype: int64\n"
     ]
    }
   ],
   "source": [
    "# Examples of data exploration\n",
    "print(X.shape)\n",
    "print(X['race'].value_counts())"
   ]
  },
  {
   "cell_type": "markdown",
   "metadata": {
    "id": "h24ZI_oh9yRK"
   },
   "source": [
    "**(TO DO) Q1 - 3 marks**  \n",
    "Inspired by the code above, *write code* to answer the following questions (not just manually printing a number without finding that number in the code). Your code must help in finding the answer. Print the question that you are answering along with the answer that the code helped find.\n",
    "\n",
    "1. How many examples are in the dataset?\n",
    "2. What are the prior probabilities of each class (NO, <30, >30)?\n",
    "3. What are the possible ranges (including ?) for the attribute weight, and the number of examples in each?\n"
   ]
  },
  {
   "cell_type": "code",
   "execution_count": 38,
   "metadata": {
    "id": "7wLFoLK4ScjB"
   },
   "outputs": [
    {
     "name": "stdout",
     "output_type": "stream",
     "text": [
      "101766\n",
      "NO 0.5391191557101586\n",
      ">30 0.3492816854352141\n",
      "<30 0.11159915885462728\n",
      "? 98569\n",
      "[75-100) 1336\n",
      "[50-75) 897\n",
      "[100-125) 625\n",
      "[125-150) 145\n",
      "[25-50) 97\n",
      "[0-25) 48\n",
      "[150-175) 35\n",
      "[175-200) 11\n",
      ">200 3\n"
     ]
    }
   ],
   "source": [
    "# ANSWER Q1 - \n",
    "### Your code which answers the three questions.\n",
    "\n",
    "# 1:\n",
    "print(X.shape[0])\n",
    "\n",
    "# 2:\n",
    "for item in X['readmitted'].value_counts().iteritems():\n",
    "    print(item[0],item[1]/X.shape[0])\n",
    "# 3:\n",
    "for item in X['weight'].value_counts().iteritems():\n",
    "    print(item[0],item[1])"
   ]
  },
  {
   "cell_type": "markdown",
   "metadata": {
    "id": "Jc3RpjgK9yRL"
   },
   "source": [
    "**3. Feature Selection**  \n",
    "Now that we have taken a look into our data, we should decide which features would be suitable to use with our model.\n",
    "\n",
    "Feature selection is just as important as tuning a model (choosing hyperparameters such as the number of layers and their sizes). We need to be sure to choose high quality features that best represent our data in order to maximize the performance of our model. Simply putting every feature or selecting some without analyzing them may provide worse results. Thus, we need to consider which features to use by looking at the data itself to see if it would be a good match."
   ]
  },
  {
   "cell_type": "markdown",
   "metadata": {
    "id": "WrmiUCJa9yRM"
   },
   "source": [
    "Some issues when working with data include:\n",
    "1. Is the data well distributed? That is, does it contain enough variety to provide a good split on the data.\n",
    "2. Are there missing values? The more missing values --> the less well these will work as features for many Machine Learning algorithms. Here, we will not focus on this issue, but it is important to know.\n",
    "3. Does the feature values (continuous, discrete) work well with our selected algorithm? (that we can transform)."
   ]
  },
  {
   "cell_type": "markdown",
   "metadata": {
    "id": "sUFdLNKS9yRM"
   },
   "source": [
    "**(TO DO) Q2 - 4 marks**   \n",
    "As you saw previously when listing all the features, there are many of them.  We do not have time, within this notebeook, to explore them all.  Therefore, we preselected 4 of them for you to analyse:  \n",
    "1. gender \n",
    "2. age \n",
    "3. weight \n",
    "4. num_medications\n",
    "\n",
    "Explore each of the specified features by:   \n",
    "\n",
    "1) Plotting the distribution (histogram using kind=\"hist\" for numerical data or bar plots using kind=\"barh\" for categorical/discrete data) and write if the data is well distributed. For more information on histograms, in case this is a newer concept, you can look at this link: https://datagy.io/histogram-python/  \n",
    "2) Identifying the number of missing/unknown/invalid values\n",
    "\n",
    "Remember, if you have any assumptions that you need to state, state them."
   ]
  },
  {
   "cell_type": "code",
   "execution_count": 5,
   "metadata": {
    "id": "9Y8g07H3Tx8f"
   },
   "outputs": [
    {
     "data": {
      "image/png": "[encoded data removed]",
      "text/plain": [
       "<Figure size 432x288 with 1 Axes>"
      ]
     },
     "metadata": {
      "needs_background": "light"
     },
     "output_type": "display_data"
    },
    {
     "name": "stdout",
     "output_type": "stream",
     "text": [
      "(Example.1): Is the above output well distributed? No it is not. This feature is highly imbalanced.\n",
      "(Example.2): There are 2273 missing values labelled as '?'.\n"
     ]
    },
    {
     "data": {
      "image/png": "[encoded data removed]",
      "text/plain": [
       "<Figure size 432x288 with 1 Axes>"
      ]
     },
     "metadata": {
      "needs_background": "light"
     },
     "output_type": "display_data"
    },
    {
     "name": "stdout",
     "output_type": "stream",
     "text": [
      "(1.1): Is the feature 'gender' well distributed? .........Yes\n",
      "(1.2): There are 3  missing values Unknown/Invalid\n"
     ]
    },
    {
     "data": {
      "image/png": "[encoded data removed]",
      "text/plain": [
       "<Figure size 432x288 with 1 Axes>"
      ]
     },
     "metadata": {
      "needs_background": "light"
     },
     "output_type": "display_data"
    },
    {
     "name": "stdout",
     "output_type": "stream",
     "text": [
      "(2.1): Is the feature 'age' well distributed? ....... No,higher age have more distributed\n",
      "(2.2): There are 0 missing values\n"
     ]
    },
    {
     "data": {
      "image/png": "[encoded data removed]",
      "text/plain": [
       "<Figure size 432x288 with 1 Axes>"
      ]
     },
     "metadata": {
      "needs_background": "light"
     },
     "output_type": "display_data"
    },
    {
     "data": {
      "image/png": "[encoded data removed]",
      "text/plain": [
       "<Figure size 432x288 with 1 Axes>"
      ]
     },
     "metadata": {
      "needs_background": "light"
     },
     "output_type": "display_data"
    },
    {
     "name": "stdout",
     "output_type": "stream",
     "text": [
      "(3.1): Is the feature 'weight' well distributed? ...No,[20-50] have only about 200 instances,but [75-100] have much more than [20-50]\n",
      "(3.2): There are 98569  missing values \n"
     ]
    },
    {
     "data": {
      "image/png": "[encoded data removed]",
      "text/plain": [
       "<Figure size 432x288 with 1 Axes>"
      ]
     },
     "metadata": {
      "needs_background": "light"
     },
     "output_type": "display_data"
    },
    {
     "name": "stdout",
     "output_type": "stream",
     "text": [
      "(4.1): Is the feature 'num_medications' well distributed? ... No, left side have higher frequency\n",
      "(4.2): There are 0 missing values \n"
     ]
    }
   ],
   "source": [
    "# ANSWER Q2 -\n",
    "\n",
    "# Example for the feature \"race\"\n",
    "plt.figure() # Creates a new figure\n",
    "X[\"race\"].value_counts().plot(kind=\"barh\", title=\"EXAMPLE - Race Distribution\")\n",
    "plt.show()\n",
    "print(\"(Example.1): Is the above output well distributed? No it is not. This feature is highly imbalanced.\")\n",
    "print(\"(Example.2): There are 2273 missing values labelled as '?'.\")\n",
    "\n",
    "# MODIFY AND ANSWER THE BELOW BASED ON THE EXAMPLE ABOVE.  \n",
    "# Also, instead of just saying balanced/imbalanced, try to add why?\n",
    "\n",
    "# gender\n",
    "plt.figure()\n",
    "X[\"gender\"].value_counts().plot(kind=\"barh\", title=\"Gender Distribution\")\n",
    "plt.show()\n",
    "print(\"(1.1): Is the feature 'gender' well distributed? .........Yes\")\n",
    "print(\"(1.2): There are\",X[\"gender\"].value_counts()['Unknown/Invalid'],\" missing values Unknown/Invalid\")\n",
    "# age\n",
    "plt.figure()\n",
    "X[\"age\"].value_counts().plot(kind=\"barh\", title=\"Age Distribution\")\n",
    "plt.show()\n",
    "print(\"(2.1): Is the feature 'age' well distributed? ....... No,higher age have more distributed\")\n",
    "print(\"(2.2): There are 0 missing values\")\n",
    "# weight\n",
    "plt.figure()\n",
    "X[\"weight\"].value_counts().plot(kind=\"barh\", title=\"Weight Distribution\")\n",
    "plt.show()\n",
    "plt.figure()\n",
    "X[\"weight\"].value_counts().drop('?').plot(kind=\"barh\", title=\"Weight Distribution w/o missing values\")\n",
    "plt.show()\n",
    "print(\"(3.1): Is the feature 'weight' well distributed? ...No,[20-50] have only about 200 instances,but [75-100] have much more than [20-50]\")\n",
    "print(\"(3.2): There are\", X[\"weight\"].value_counts()['?'],\" missing values \")\n",
    "# num_medications\n",
    "plt.figure()\n",
    "X[\"num_medications\"].value_counts().plot(kind=\"hist\", title=\"num_medications distribution\") \n",
    "plt.show()\n",
    "print(\"(4.1): Is the feature 'num_medications' well distributed? ... No, left side have higher frequency\")\n",
    "print(\"(4.2): There are 0 missing values \")"
   ]
  },
  {
   "cell_type": "markdown",
   "metadata": {
    "id": "_F8fP3uw9yRM"
   },
   "source": [
    "**4. Preparing the dataset for experimentation**\n",
    "\n",
    "We will do a few steps to prepare the data for experimentations:  \\\n",
    "\n",
    "(1) extracting the class we wish to predict \\\n",
    "(2) splitting the dataset into a training and a validation set (called a test set in sklearn) \\\n",
    "(3) define a subset of features to work with \\\n",
    "(4) perform one-hot-encoding for discrete features"
   ]
  },
  {
   "cell_type": "code",
   "execution_count": 6,
   "metadata": {
    "id": "D1hcovh29yRN"
   },
   "outputs": [],
   "source": [
    "# This can ONLY BE DONE ONCE, as we pop the values into a new variable to be used as predicted class\n",
    "y = X.pop(\"readmitted\").values"
   ]
  },
  {
   "cell_type": "code",
   "execution_count": 7,
   "metadata": {
    "id": "Rl0NLwG-9yRN"
   },
   "outputs": [
    {
     "name": "stdout",
     "output_type": "stream",
     "text": [
      "(81412, 49)\n",
      "(20354,)\n"
     ]
    }
   ],
   "source": [
    "# split the large dataset into train and test\n",
    "from sklearn.model_selection import train_test_split\n",
    "\n",
    "X_train, X_test, y_train, y_test = train_test_split(X, y, test_size = 0.2, random_state=5)\n",
    "# Look at the shape of the outputs\n",
    "print(X_train.shape)\n",
    "print(y_test.shape)"
   ]
  },
  {
   "cell_type": "code",
   "execution_count": 8,
   "metadata": {
    "id": "S-mpXhFz9yRN"
   },
   "outputs": [
    {
     "data": {
      "text/plain": [
       "OneHotEncoder(handle_unknown='ignore', sparse=False)"
      ]
     },
     "execution_count": 8,
     "metadata": {},
     "output_type": "execute_result"
    }
   ],
   "source": [
    "from sklearn import preprocessing\n",
    "from sklearn.preprocessing import OneHotEncoder\n",
    "\n",
    "# Setting up our one-hot encoder\n",
    "ohe = OneHotEncoder(sparse=False, handle_unknown='ignore')\n",
    "\n",
    "# Since the dataset is quite large, try with a subset of features\n",
    "featureSet = ['race','gender','age', 'weight', 'time_in_hospital', 'num_lab_procedures', 'num_procedures',\n",
    " 'num_medications']\n",
    "\n",
    "# Make a copy of the training set containing only the chosen features\n",
    "X_train_sf = X_train[featureSet].copy()\n",
    "X_test_sf = X_test[featureSet].copy()\n",
    "\n",
    "# IF you wanted to try with the full dataset, try to redo the steps with this (optional - takes a lot of time)\n",
    "# X_train_allf = X_train[:].copy()\n",
    "# X_test_allf = X_test[:].copy()\n",
    "\n",
    "# Perform the one-hot encoding using our one-hot encoder on the selected feature set\n",
    "ohe.fit(X_train_sf)"
   ]
  },
  {
   "cell_type": "code",
   "execution_count": 9,
   "metadata": {
    "id": "ZU6oDlY-9yRO"
   },
   "outputs": [
    {
     "name": "stdout",
     "output_type": "stream",
     "text": [
      "['x0_?' 'x0_AfricanAmerican' 'x0_Asian' 'x0_Caucasian' 'x0_Hispanic'\n",
      " 'x0_Other' 'x1_Female' 'x1_Male' 'x1_Unknown/Invalid' 'x2_[0-10)'\n",
      " 'x2_[10-20)' 'x2_[20-30)' 'x2_[30-40)' 'x2_[40-50)' 'x2_[50-60)'\n",
      " 'x2_[60-70)' 'x2_[70-80)' 'x2_[80-90)' 'x2_[90-100)' 'x3_>200' 'x3_?'\n",
      " 'x3_[0-25)' 'x3_[100-125)' 'x3_[125-150)' 'x3_[150-175)' 'x3_[175-200)'\n",
      " 'x3_[25-50)' 'x3_[50-75)' 'x3_[75-100)' 'x4_1' 'x4_2' 'x4_3' 'x4_4'\n",
      " 'x4_5' 'x4_6' 'x4_7' 'x4_8' 'x4_9' 'x4_10' 'x4_11' 'x4_12' 'x4_13'\n",
      " 'x4_14' 'x5_1' 'x5_2' 'x5_3' 'x5_4' 'x5_5' 'x5_6' 'x5_7' 'x5_8' 'x5_9'\n",
      " 'x5_10' 'x5_11' 'x5_12' 'x5_13' 'x5_14' 'x5_15' 'x5_16' 'x5_17' 'x5_18'\n",
      " 'x5_19' 'x5_20' 'x5_21' 'x5_22' 'x5_23' 'x5_24' 'x5_25' 'x5_26' 'x5_27'\n",
      " 'x5_28' 'x5_29' 'x5_30' 'x5_31' 'x5_32' 'x5_33' 'x5_34' 'x5_35' 'x5_36'\n",
      " 'x5_37' 'x5_38' 'x5_39' 'x5_40' 'x5_41' 'x5_42' 'x5_43' 'x5_44' 'x5_45'\n",
      " 'x5_46' 'x5_47' 'x5_48' 'x5_49' 'x5_50' 'x5_51' 'x5_52' 'x5_53' 'x5_54'\n",
      " 'x5_55' 'x5_56' 'x5_57' 'x5_58' 'x5_59' 'x5_60' 'x5_61' 'x5_62' 'x5_63'\n",
      " 'x5_64' 'x5_65' 'x5_66' 'x5_67' 'x5_68' 'x5_69' 'x5_70' 'x5_71' 'x5_72'\n",
      " 'x5_73' 'x5_74' 'x5_75' 'x5_76' 'x5_77' 'x5_78' 'x5_79' 'x5_80' 'x5_81'\n",
      " 'x5_82' 'x5_83' 'x5_84' 'x5_85' 'x5_86' 'x5_87' 'x5_88' 'x5_89' 'x5_90'\n",
      " 'x5_91' 'x5_92' 'x5_93' 'x5_94' 'x5_95' 'x5_96' 'x5_97' 'x5_98' 'x5_99'\n",
      " 'x5_100' 'x5_101' 'x5_102' 'x5_103' 'x5_104' 'x5_105' 'x5_106' 'x5_107'\n",
      " 'x5_108' 'x5_109' 'x5_111' 'x5_113' 'x5_114' 'x5_118' 'x5_120' 'x5_121'\n",
      " 'x5_129' 'x5_132' 'x6_0' 'x6_1' 'x6_2' 'x6_3' 'x6_4' 'x6_5' 'x6_6' 'x7_1'\n",
      " 'x7_2' 'x7_3' 'x7_4' 'x7_5' 'x7_6' 'x7_7' 'x7_8' 'x7_9' 'x7_10' 'x7_11'\n",
      " 'x7_12' 'x7_13' 'x7_14' 'x7_15' 'x7_16' 'x7_17' 'x7_18' 'x7_19' 'x7_20'\n",
      " 'x7_21' 'x7_22' 'x7_23' 'x7_24' 'x7_25' 'x7_26' 'x7_27' 'x7_28' 'x7_29'\n",
      " 'x7_30' 'x7_31' 'x7_32' 'x7_33' 'x7_34' 'x7_35' 'x7_36' 'x7_37' 'x7_38'\n",
      " 'x7_39' 'x7_40' 'x7_41' 'x7_42' 'x7_43' 'x7_44' 'x7_45' 'x7_46' 'x7_47'\n",
      " 'x7_48' 'x7_49' 'x7_50' 'x7_51' 'x7_52' 'x7_53' 'x7_54' 'x7_55' 'x7_56'\n",
      " 'x7_57' 'x7_58' 'x7_59' 'x7_60' 'x7_61' 'x7_62' 'x7_63' 'x7_64' 'x7_65'\n",
      " 'x7_66' 'x7_67' 'x7_68' 'x7_69' 'x7_70' 'x7_72' 'x7_74' 'x7_75' 'x7_79'\n",
      " 'x7_81']\n"
     ]
    }
   ],
   "source": [
    "# The one-hot-encoder renames the features. Let's take a look at the new names.\n",
    "feature_names = ohe.get_feature_names()\n",
    "print(feature_names)"
   ]
  },
  {
   "cell_type": "code",
   "execution_count": 10,
   "metadata": {
    "id": "sJeeNJdm9yRO"
   },
   "outputs": [],
   "source": [
    "# We can now encode the training and test set with the new features\n",
    "X_train_sf_encoded = ohe.transform(X_train_sf)\n",
    "X_test_sf_encoded = ohe.transform(X_test_sf)"
   ]
  },
  {
   "cell_type": "markdown",
   "metadata": {
    "id": "7shNSZ7j9yRO"
   },
   "source": [
    "**(TO DO) Q3 - 1 mark**   \n",
    " \n",
    "1.   How many features are there now, after the one-hot-encoder?\n",
    "2.   Why so many? \n",
    "3.   Show the shape of the training set now."
   ]
  },
  {
   "cell_type": "code",
   "execution_count": 11,
   "metadata": {
    "id": "poQUnED8VRgd"
   },
   "outputs": [
    {
     "name": "stdout",
     "output_type": "stream",
     "text": [
      "242\n",
      "There are we are using one-hot-encoder, we make each number in 'time_in_hosptial' into a different category \n",
      "(81412, 242)\n"
     ]
    }
   ],
   "source": [
    "# ANSWER Q3 -\n",
    "# How many features are there now after encoding (write a line of code)\n",
    "print(X_train_sf_encoded.shape[1])\n",
    "# Why so many?\n",
    "print(\"There are we are using one-hot-encoder, we make each number in 'time_in_hosptial' into a different category \")\n",
    "# Show the shape of the training set after the one-hot encoding. (write a line of code)\n",
    "print(X_train_sf_encoded.shape)"
   ]
  },
  {
   "cell_type": "markdown",
   "metadata": {
    "id": "V_-OJgQx9yRO"
   },
   "source": [
    "**5. Baseline model**  \n",
    "Now that we have setup our encoded features we will start by using a Logistic Regression Classifier to perform supervised learning on our dataset."
   ]
  },
  {
   "cell_type": "markdown",
   "metadata": {
    "id": "yNRXFyAo9yRO"
   },
   "source": [
    "***5.1 Defining the Logistic Regression Classifier***   \n",
    "First we will define our Logistic Regression Classifier with scikit learn.  Since we have 3 classes for readmission prediction (before 30 days, after 30 days, and none), we define our classifier as a multinomial classifier (see below the parameter multi_class)."
   ]
  },
  {
   "cell_type": "code",
   "execution_count": 12,
   "metadata": {
    "executionInfo": {
     "elapsed": 1073,
     "status": "ok",
     "timestamp": 1634764437507,
     "user": {
      "displayName": "Caroline Barriere",
      "photoUrl": "https://lh3.googleusercontent.com/a/default-user=s64",
      "userId": "05790532458714626139"
     },
     "user_tz": 240
    },
    "id": "dWlaUiRQ9yRO"
   },
   "outputs": [],
   "source": [
    "# Import the Logistic Regression model from scikit and matplot\n",
    "from sklearn.linear_model import LogisticRegression\n",
    "import datetime"
   ]
  },
  {
   "cell_type": "code",
   "execution_count": 13,
   "metadata": {
    "executionInfo": {
     "elapsed": 169,
     "status": "ok",
     "timestamp": 1634764439560,
     "user": {
      "displayName": "Caroline Barriere",
      "photoUrl": "https://lh3.googleusercontent.com/a/default-user=s64",
      "userId": "05790532458714626139"
     },
     "user_tz": 240
    },
    "id": "jMqPCcUs9yRO"
   },
   "outputs": [],
   "source": [
    "# Define the model\n",
    "clf_lr = LogisticRegression(solver='lbfgs', multi_class=\"multinomial\", random_state=1, warm_start=True)"
   ]
  },
  {
   "cell_type": "markdown",
   "metadata": {
    "id": "WPAe0QpGsD5P"
   },
   "source": [
    "As you see above, the solver we use is the 'lbfgs' which is more complex than the 'sgd' (stochastic gradient descent) which we saw in the video lectures last week and this week. \n",
    "\n",
    "We will use 'sgd' later on in the notebook (also available in sklearn), but for now, we will use the 'lbfgs' which uses optimization techniques to converge more rapidly toward a set of weights that minimize the error.\n",
    "\n",
    "With such solver, the 'fit' function (clf_mlp.fit) needs to be repeated a certain number of epochs. An *epoch* is defined as going through all the training data once. Think of an epoch as the same as the number of iterations through all the training data, as we saw for 'sgd' in the lectures.\n",
    "\n",
    "Also, to make sure the weights are not reinitialized at random after each epoch, it's important to set warm_start to True."
   ]
  },
  {
   "cell_type": "markdown",
   "metadata": {
    "id": "QDtGHmsb9yRP"
   },
   "source": [
    "***5.2 Training the Logistic Regression Classifier***  \n",
    "Now that the model is defined, we need to train our model with the training set to learn how to classify our target class *readmitted*.  See how our *train_model* function requires a loop representing the number of epochs, which we set at 10 by default."
   ]
  },
  {
   "cell_type": "code",
   "execution_count": 14,
   "metadata": {
    "id": "avdtZzOz9yRP"
   },
   "outputs": [],
   "source": [
    "# This function trains a given model and returns a list of scores\n",
    "#   clf:     The untrained model to train\n",
    "#   X_train: The encoded attributes of the training set\n",
    "#   y_train: The target values of the training set\n",
    "def train_model(clf, X_train, y_train, epochs=10):\n",
    "    scores = []\n",
    "    print(\"Starting training...\")\n",
    "    for i in range(1, epochs + 1):\n",
    "        print(\"Epoch:\" + str(i) + \"/\" + str(epochs) + \" -- \" + str(datetime.datetime.now()))\n",
    "        clf.fit(X_train, y_train)\n",
    "        score = clf.score(X_train, y_train)\n",
    "        scores.append(score)\n",
    "    print(\"Done training.\")\n",
    "    return scores"
   ]
  },
  {
   "cell_type": "code",
   "execution_count": 15,
   "metadata": {
    "id": "yTxDCbNd9yRP"
   },
   "outputs": [
    {
     "name": "stdout",
     "output_type": "stream",
     "text": [
      "Starting training...\n",
      "Epoch:1/1 -- 2021-11-01 20:26:21.986286\n",
      "Done training.\n",
      "[0.5433228516680587]\n"
     ]
    },
    {
     "name": "stderr",
     "output_type": "stream",
     "text": [
      "E:\\Anaconda\\lib\\site-packages\\sklearn\\linear_model\\_logistic.py:763: ConvergenceWarning: lbfgs failed to converge (status=1):\n",
      "STOP: TOTAL NO. of ITERATIONS REACHED LIMIT.\n",
      "\n",
      "Increase the number of iterations (max_iter) or scale the data as shown in:\n",
      "    https://scikit-learn.org/stable/modules/preprocessing.html\n",
      "Please also refer to the documentation for alternative solver options:\n",
      "    https://scikit-learn.org/stable/modules/linear_model.html#logistic-regression\n",
      "  n_iter_i = _check_optimize_result(\n"
     ]
    }
   ],
   "source": [
    "# Now let's train the model (recall that we use the training set)\n",
    "# We run for only one epoch and will only get one score\n",
    "clf_lr_scores = train_model(clf_lr, X_train_sf_encoded, y_train, 1)\n",
    "print(clf_lr_scores)"
   ]
  },
  {
   "cell_type": "markdown",
   "metadata": {
    "id": "kFEDpKYd9yRP"
   },
   "source": [
    "**(TO DO) Q4 - 1 mark**   \n",
    "Looking at the function train_model, what is the *score* (clf.score())? You may need to look at the [official documentation](https://scikit-learn.org/stable/modules/generated/sklearn.linear_model.LogisticRegression.html) for the LogisticRegression to understand this. \n",
    "\n",
    "What is the score obtained and what does it represent?"
   ]
  },
  {
   "cell_type": "markdown",
   "metadata": {
    "id": "XNg3nUq5XvGj"
   },
   "source": [
    "**ANSWER - Q4**\n",
    "\n",
    "Score obtained? \\\n",
    "What is that score?"
   ]
  },
  {
   "cell_type": "code",
   "execution_count": 16,
   "metadata": {},
   "outputs": [
    {
     "name": "stdout",
     "output_type": "stream",
     "text": [
      "Starting training...\n",
      "Epoch:1/1 -- 2021-11-01 20:27:14.218039\n",
      "Done training.\n",
      "[0.543519382891957]\n"
     ]
    },
    {
     "name": "stderr",
     "output_type": "stream",
     "text": [
      "E:\\Anaconda\\lib\\site-packages\\sklearn\\linear_model\\_logistic.py:763: ConvergenceWarning: lbfgs failed to converge (status=1):\n",
      "STOP: TOTAL NO. of ITERATIONS REACHED LIMIT.\n",
      "\n",
      "Increase the number of iterations (max_iter) or scale the data as shown in:\n",
      "    https://scikit-learn.org/stable/modules/preprocessing.html\n",
      "Please also refer to the documentation for alternative solver options:\n",
      "    https://scikit-learn.org/stable/modules/linear_model.html#logistic-regression\n",
      "  n_iter_i = _check_optimize_result(\n"
     ]
    }
   ],
   "source": [
    "clf_scores = train_model(clf_lr, X_train_sf_encoded, y_train, 1)\n",
    "print(clf_scores)"
   ]
  },
  {
   "cell_type": "markdown",
   "metadata": {
    "id": "5NCE9_ki9yRP"
   },
   "source": [
    "**(TO DO) Q5 - 2 marks**   \n",
    "For this question, first run the code below.  Then describe what the code does. \n",
    "Afterwards, give the accuracy of the printed results (just manually state it, no need to code)."
   ]
  },
  {
   "cell_type": "code",
   "execution_count": 17,
   "metadata": {
    "id": "FDF_qFo_9yRP"
   },
   "outputs": [
    {
     "name": "stdout",
     "output_type": "stream",
     "text": [
      "['NO' 'NO' 'NO' 'NO' 'NO' 'NO' 'NO' 'NO' 'NO' 'NO']\n",
      "['>30' 'NO' 'NO' 'NO' '>30' '<30' '<30' '<30' '>30' '>30']\n"
     ]
    },
    {
     "data": {
      "text/plain": [
       "array([[0.05888084, 0.32996656, 0.6111526 ],\n",
       "       [0.08673077, 0.26553816, 0.64773107],\n",
       "       [0.06844993, 0.34884681, 0.58270327],\n",
       "       [0.12256946, 0.34744711, 0.52998344],\n",
       "       [0.09689778, 0.29904489, 0.60405733],\n",
       "       [0.11705859, 0.36059957, 0.52234184],\n",
       "       [0.08843135, 0.35008433, 0.56148432],\n",
       "       [0.08108552, 0.29086212, 0.62805237],\n",
       "       [0.09612246, 0.35305694, 0.55082059],\n",
       "       [0.17709205, 0.40975542, 0.41315253]])"
      ]
     },
     "execution_count": 17,
     "metadata": {},
     "output_type": "execute_result"
    }
   ],
   "source": [
    "# Show the prediction on the first 10 examples\n",
    "y_predicted = clf_lr.predict(X_train_sf_encoded[0:10])\n",
    "print(y_predicted)\n",
    "print(y_train[0:10])\n",
    "clf_lr.predict_proba(X_train_sf_encoded[0:10])"
   ]
  },
  {
   "cell_type": "markdown",
   "metadata": {
    "id": "M90fKFGXYaED"
   },
   "source": [
    "**ANSWER Q5 -**\n",
    "\n",
    "1) Describe what y_predicted is: The Logistic Regression for first 10 instances\n",
    "2) Describe what y_train[0:10] is: The lable for 10 instances\n",
    "3) Describe clf_lr.predict_proba(X_train_sf_encoded[0:10]): Each instance will have the max number.\n",
    "4) What is the accuracy of the printed results? (manually calculated) 3/10 = 0.3"
   ]
  },
  {
   "cell_type": "markdown",
   "metadata": {
    "id": "xE7gSxZu9yRP"
   },
   "source": [
    "**5.3 Testing the Logistic Regression Model**   \n",
    "Now that we have our trained model, let's test it on the test set."
   ]
  },
  {
   "cell_type": "markdown",
   "metadata": {
    "id": "Eby9JFSK9yRP"
   },
   "source": [
    "**(TO DO) Q6 - 2 marks**   \n",
    "Evaluate the model on the test set by computing it's *score* (recall how the score is computed when training) and compare that to the training set scores (you have this value from clf_lr_scores). Print which is better and give one reason why these results may have ended up this way."
   ]
  },
  {
   "cell_type": "code",
   "execution_count": 18,
   "metadata": {
    "id": "IB-HHZ4zY39K"
   },
   "outputs": [
    {
     "name": "stdout",
     "output_type": "stream",
     "text": [
      "0.5395499656087256\n",
      "True\n"
     ]
    }
   ],
   "source": [
    "# ANSWER Q6\n",
    "\n",
    "# The test set is encoded in here: X_test_sf_encoded\n",
    "# Need to compute test score, print it, compare to train score, and print which is better and why\n",
    "test_score = clf_lr.score(X_test_sf_encoded, y_test)\n",
    "print(test_score)\n",
    "print(clf_lr_scores[0]>test_score)"
   ]
  },
  {
   "cell_type": "markdown",
   "metadata": {
    "id": "r0sKNny79yRQ"
   },
   "source": [
    "**6. MLP**   \n",
    "We now work with a Multi Layer Perceptron Classifier to perform supervised learning on our dataset. We will be able to compare it to our baseline approach (logistic regression)."
   ]
  },
  {
   "cell_type": "markdown",
   "metadata": {
    "id": "636TNSrf9yRQ"
   },
   "source": [
    "***6.1 Defining the MLPClassifier***   \n",
    "First we will define our MLPClassifier with scikit learn.  We define a network with a single hidden layer of 100 nodes (see parameter hidden_layer_sizes)."
   ]
  },
  {
   "cell_type": "code",
   "execution_count": 19,
   "metadata": {
    "id": "_Oro4YHi9yRQ"
   },
   "outputs": [],
   "source": [
    "# Import the MLP model from scikit and matplot\n",
    "from sklearn.neural_network import MLPClassifier"
   ]
  },
  {
   "cell_type": "code",
   "execution_count": 20,
   "metadata": {
    "id": "NzMFDEmm9yRQ"
   },
   "outputs": [],
   "source": [
    "# Define the model\n",
    "clf_mlp = MLPClassifier(solver='lbfgs', hidden_layer_sizes=(100), random_state=1, warm_start=True)"
   ]
  },
  {
   "cell_type": "markdown",
   "metadata": {
    "id": "nPrafG3-kxZZ"
   },
   "source": [
    "As you see above, we use again the 'lbfgs' solver.  The same as for the logistic regression, with such solver, the 'fit' function (clf_mlp.fit) needs to be repeated a certain number of epochs.  \n",
    "\n",
    "Also, many parameters, available for the MLPClassifier, do not apply when using 'lbfgs', so for now, we are using the defaults.  We will discuss parameters later when we go back to 'sgd'."
   ]
  },
  {
   "cell_type": "markdown",
   "metadata": {
    "id": "2CHI7R7h9yRQ"
   },
   "source": [
    "***6.2 Training, Testing, and Discussing the MLPClassifier***  \n",
    "Now that the model is defined, we need to train our model with the train set to learn how to classify our target class *readmitted*. We will plot our retrieved scores, discuss them, and compare them with with the Baseline Model."
   ]
  },
  {
   "cell_type": "code",
   "execution_count": 21,
   "metadata": {
    "id": "5ewcttXg9yRQ"
   },
   "outputs": [],
   "source": [
    "# Plots the train and the test scores\n",
    "def plotScores(scores_train, scores_test):\n",
    "    # Plot the points\n",
    "    plt.plot([i for i in range(len(scores_train))], scores_train)\n",
    "    plt.plot([i for i in range(len(scores_test))], scores_test)\n",
    "    # Setup the legend\n",
    "    plt.legend([\"Train scores\", \"Test Scores\"])\n",
    "    # Labels for the x and y axis\n",
    "    plt.ylabel(\"Score\")\n",
    "    plt.xlabel(\"Epoch\")\n",
    "    plt.show()"
   ]
  },
  {
   "cell_type": "markdown",
   "metadata": {
    "id": "10ftbKow9yRQ"
   },
   "source": [
    "**(TO DO) Q7 - 7 marks**   \n",
    "\n",
    "***For all parts of this question, ensure that you have the full, correct output in your submission (do not clear the output here).***\n",
    "\n",
    "1. You must define the function train_and_evaluate() below. This function must take as input a classifier, the training set, the testing set, and the number of epochs. Inspired from the provided function train_model(), train the model as usual (use 10 epochs as the default), but now track the scores from both the train and the test sets at each epoch. Return both of these results.  \n",
    "2. Once defined, train clf_mlp with train_and_evaluate() for ten epochs.  PLEASE NOTE: this training might take a while depending on your machine (could be 2-3 minutes per epoch).\n",
    "3. Take the MLPClassifier results and plot them with the plotting function above (*plotScores*).   \n",
    "4. Describe the behaviour of the scores found during the training. Did the train or the test set produce the best results? What do these results mean? \n",
    "5. Did the MLP do better or worse than the Baseline Logistic Regression Model (and by how much)? Why do you think that it did better/worse?\n"
   ]
  },
  {
   "cell_type": "code",
   "execution_count": 22,
   "metadata": {
    "id": "imoVXGT6bL5z"
   },
   "outputs": [],
   "source": [
    "# ANSWER Q7 - part 1 - Create the train_and_evaluate function\n",
    "def train_and_evaluate(clf, X_train, y_train, X_test, y_test, epochs=10):\n",
    "    train_scores = []\n",
    "    test_scores = [] \n",
    "    for i in range(1, epochs + 1):\n",
    "        print(\"Epoch:\" + str(i) + \"/\" + str(epochs) + \" -- \" + str(datetime.datetime.now()))\n",
    "        clf.fit(X_train,y_train)\n",
    "        train_scores.append(clf.score(X_train,y_train))\n",
    "        test_scores.append(clf.score(X_test, y_test))\n",
    "    return train_scores, test_scores"
   ]
  },
  {
   "cell_type": "code",
   "execution_count": 24,
   "metadata": {
    "id": "9P4B-beZbMD5"
   },
   "outputs": [
    {
     "name": "stdout",
     "output_type": "stream",
     "text": [
      "Epoch:1/10 -- 2021-11-01 20:31:12.811106\n"
     ]
    },
    {
     "name": "stderr",
     "output_type": "stream",
     "text": [
      "E:\\Anaconda\\lib\\site-packages\\sklearn\\neural_network\\_multilayer_perceptron.py:500: ConvergenceWarning: lbfgs failed to converge (status=1):\n",
      "STOP: TOTAL NO. of ITERATIONS REACHED LIMIT.\n",
      "\n",
      "Increase the number of iterations (max_iter) or scale the data as shown in:\n",
      "    https://scikit-learn.org/stable/modules/preprocessing.html\n",
      "  self.n_iter_ = _check_optimize_result(\"lbfgs\", opt_res, self.max_iter)\n"
     ]
    },
    {
     "name": "stdout",
     "output_type": "stream",
     "text": [
      "Epoch:2/10 -- 2021-11-01 20:31:59.666535\n"
     ]
    },
    {
     "name": "stderr",
     "output_type": "stream",
     "text": [
      "E:\\Anaconda\\lib\\site-packages\\sklearn\\neural_network\\_multilayer_perceptron.py:500: ConvergenceWarning: lbfgs failed to converge (status=1):\n",
      "STOP: TOTAL NO. of ITERATIONS REACHED LIMIT.\n",
      "\n",
      "Increase the number of iterations (max_iter) or scale the data as shown in:\n",
      "    https://scikit-learn.org/stable/modules/preprocessing.html\n",
      "  self.n_iter_ = _check_optimize_result(\"lbfgs\", opt_res, self.max_iter)\n"
     ]
    },
    {
     "name": "stdout",
     "output_type": "stream",
     "text": [
      "Epoch:3/10 -- 2021-11-01 20:32:43.501918\n"
     ]
    },
    {
     "name": "stderr",
     "output_type": "stream",
     "text": [
      "E:\\Anaconda\\lib\\site-packages\\sklearn\\neural_network\\_multilayer_perceptron.py:500: ConvergenceWarning: lbfgs failed to converge (status=1):\n",
      "STOP: TOTAL NO. of ITERATIONS REACHED LIMIT.\n",
      "\n",
      "Increase the number of iterations (max_iter) or scale the data as shown in:\n",
      "    https://scikit-learn.org/stable/modules/preprocessing.html\n",
      "  self.n_iter_ = _check_optimize_result(\"lbfgs\", opt_res, self.max_iter)\n"
     ]
    },
    {
     "name": "stdout",
     "output_type": "stream",
     "text": [
      "Epoch:4/10 -- 2021-11-01 20:33:28.270931\n"
     ]
    },
    {
     "name": "stderr",
     "output_type": "stream",
     "text": [
      "E:\\Anaconda\\lib\\site-packages\\sklearn\\neural_network\\_multilayer_perceptron.py:500: ConvergenceWarning: lbfgs failed to converge (status=1):\n",
      "STOP: TOTAL NO. of ITERATIONS REACHED LIMIT.\n",
      "\n",
      "Increase the number of iterations (max_iter) or scale the data as shown in:\n",
      "    https://scikit-learn.org/stable/modules/preprocessing.html\n",
      "  self.n_iter_ = _check_optimize_result(\"lbfgs\", opt_res, self.max_iter)\n"
     ]
    },
    {
     "name": "stdout",
     "output_type": "stream",
     "text": [
      "Epoch:5/10 -- 2021-11-01 20:34:13.852961\n"
     ]
    },
    {
     "name": "stderr",
     "output_type": "stream",
     "text": [
      "E:\\Anaconda\\lib\\site-packages\\sklearn\\neural_network\\_multilayer_perceptron.py:500: ConvergenceWarning: lbfgs failed to converge (status=1):\n",
      "STOP: TOTAL NO. of ITERATIONS REACHED LIMIT.\n",
      "\n",
      "Increase the number of iterations (max_iter) or scale the data as shown in:\n",
      "    https://scikit-learn.org/stable/modules/preprocessing.html\n",
      "  self.n_iter_ = _check_optimize_result(\"lbfgs\", opt_res, self.max_iter)\n"
     ]
    },
    {
     "name": "stdout",
     "output_type": "stream",
     "text": [
      "Epoch:6/10 -- 2021-11-01 20:34:58.944798\n"
     ]
    },
    {
     "name": "stderr",
     "output_type": "stream",
     "text": [
      "E:\\Anaconda\\lib\\site-packages\\sklearn\\neural_network\\_multilayer_perceptron.py:500: ConvergenceWarning: lbfgs failed to converge (status=1):\n",
      "STOP: TOTAL NO. of ITERATIONS REACHED LIMIT.\n",
      "\n",
      "Increase the number of iterations (max_iter) or scale the data as shown in:\n",
      "    https://scikit-learn.org/stable/modules/preprocessing.html\n",
      "  self.n_iter_ = _check_optimize_result(\"lbfgs\", opt_res, self.max_iter)\n"
     ]
    },
    {
     "name": "stdout",
     "output_type": "stream",
     "text": [
      "Epoch:7/10 -- 2021-11-01 20:35:43.909782\n"
     ]
    },
    {
     "name": "stderr",
     "output_type": "stream",
     "text": [
      "E:\\Anaconda\\lib\\site-packages\\sklearn\\neural_network\\_multilayer_perceptron.py:500: ConvergenceWarning: lbfgs failed to converge (status=1):\n",
      "STOP: TOTAL NO. of ITERATIONS REACHED LIMIT.\n",
      "\n",
      "Increase the number of iterations (max_iter) or scale the data as shown in:\n",
      "    https://scikit-learn.org/stable/modules/preprocessing.html\n",
      "  self.n_iter_ = _check_optimize_result(\"lbfgs\", opt_res, self.max_iter)\n"
     ]
    },
    {
     "name": "stdout",
     "output_type": "stream",
     "text": [
      "Epoch:8/10 -- 2021-11-01 20:36:28.615876\n"
     ]
    },
    {
     "name": "stderr",
     "output_type": "stream",
     "text": [
      "E:\\Anaconda\\lib\\site-packages\\sklearn\\neural_network\\_multilayer_perceptron.py:500: ConvergenceWarning: lbfgs failed to converge (status=1):\n",
      "STOP: TOTAL NO. of ITERATIONS REACHED LIMIT.\n",
      "\n",
      "Increase the number of iterations (max_iter) or scale the data as shown in:\n",
      "    https://scikit-learn.org/stable/modules/preprocessing.html\n",
      "  self.n_iter_ = _check_optimize_result(\"lbfgs\", opt_res, self.max_iter)\n"
     ]
    },
    {
     "name": "stdout",
     "output_type": "stream",
     "text": [
      "Epoch:9/10 -- 2021-11-01 20:37:15.142074\n"
     ]
    },
    {
     "name": "stderr",
     "output_type": "stream",
     "text": [
      "E:\\Anaconda\\lib\\site-packages\\sklearn\\neural_network\\_multilayer_perceptron.py:500: ConvergenceWarning: lbfgs failed to converge (status=1):\n",
      "STOP: TOTAL NO. of ITERATIONS REACHED LIMIT.\n",
      "\n",
      "Increase the number of iterations (max_iter) or scale the data as shown in:\n",
      "    https://scikit-learn.org/stable/modules/preprocessing.html\n",
      "  self.n_iter_ = _check_optimize_result(\"lbfgs\", opt_res, self.max_iter)\n"
     ]
    },
    {
     "name": "stdout",
     "output_type": "stream",
     "text": [
      "Epoch:10/10 -- 2021-11-01 20:37:59.089933\n"
     ]
    },
    {
     "name": "stderr",
     "output_type": "stream",
     "text": [
      "E:\\Anaconda\\lib\\site-packages\\sklearn\\neural_network\\_multilayer_perceptron.py:500: ConvergenceWarning: lbfgs failed to converge (status=1):\n",
      "STOP: TOTAL NO. of ITERATIONS REACHED LIMIT.\n",
      "\n",
      "Increase the number of iterations (max_iter) or scale the data as shown in:\n",
      "    https://scikit-learn.org/stable/modules/preprocessing.html\n",
      "  self.n_iter_ = _check_optimize_result(\"lbfgs\", opt_res, self.max_iter)\n"
     ]
    }
   ],
   "source": [
    "# ANSWER Q7 - part 2\n",
    "# Train for *10* epochs, NOT 1. This will take a while so be patient!\n",
    "# You may see a warning message, this is because we defined clf_mlp to stop early if a condition is met.\n",
    "# In reality, you would want the model to go for as long as it needs to appropriately learn from the training set.\n",
    "train_scores_mlp, test_scores_mlp = train_and_evaluate(clf_mlp,X_train_sf_encoded,y_train,X_test_sf_encoded,y_test,10)"
   ]
  },
  {
   "cell_type": "code",
   "execution_count": 25,
   "metadata": {
    "id": "6KMC7ToEbMQa"
   },
   "outputs": [
    {
     "name": "stdout",
     "output_type": "stream",
     "text": [
      "[0.6199700289883555, 0.6463789121996757, 0.6563897214169901, 0.6631823318429716, 0.6673217707463274, 0.669397631798752, 0.6711786960153294, 0.6735002210976269, 0.674138947575296, 0.6752690021127107]\n",
      "[0.4976417411810946, 0.48776653237692835, 0.4831974059152992, 0.48069175592021224, 0.4792669745504569, 0.4799548000393043, 0.4787756706298516, 0.4783826274933674, 0.48034784317578855, 0.4790213225901543]\n"
     ]
    },
    {
     "data": {
      "image/png": "[encoded data removed]",
      "text/plain": [
       "<Figure size 432x288 with 1 Axes>"
      ]
     },
     "metadata": {
      "needs_background": "light"
     },
     "output_type": "display_data"
    }
   ],
   "source": [
    "# ANSWER Q7 - part 3 - Visualize the results\n",
    "print(train_scores_mlp)\n",
    "print(test_scores_mlp)\n",
    "plotScores(train_scores_mlp,test_scores_mlp)"
   ]
  },
  {
   "cell_type": "markdown",
   "metadata": {
    "id": "dXTB2veBbiVA"
   },
   "source": [
    "**ANSWER Q7 - part 4** \\\n",
    "Describe the behaviour of the scores found during the training. Did the train or the test set produce the best results? What do these results mean?\n",
    "\n",
    "This is overfitting,train score is high but test score is small"
   ]
  },
  {
   "cell_type": "markdown",
   "metadata": {
    "id": "zb1dGkLjbpXy"
   },
   "source": [
    "**ANSWER Q7 - part 5** \\\n",
    "Did the MLP do better or worse than the Baseline Logistic Regression Model (and by how much)? Why do you think that it did better/worse?\n",
    "\n",
    "MLP have better performence for Logitic Regression Model. Because it has better performence at testing data."
   ]
  },
  {
   "cell_type": "markdown",
   "metadata": {
    "id": "M2Lj29Fj9yRR"
   },
   "source": [
    "**7. Trying a slightly different model with different feature selection**  \n",
    "Now that we have run through the Baseline and the MLP classifiers, let us try one more MLP with a different feature selection. This time you will be creating the model by with random features to use from our original list of features. A random selection is certainly not what we should do in a real context, but for the sake of comparing results of different feature sets, within this notebook, this will work well.  The following TO DO gives an overview of the entire task."
   ]
  },
  {
   "cell_type": "markdown",
   "metadata": {
    "id": "P1_1s1Am9yRR"
   },
   "source": [
    "**(TO DO) Q8 - 6 marks**   \n",
    "\n",
    "You will retrain a MLP classifier using 4 random features instead of the ones we used above.\n",
    "\n",
    "1.   Insert a seed of your choice for the randomization.  \n",
    "2.   Create a new list of features containing a random four features from featureSet, we call this list randomFeatures.\n",
    "3.   Then use that list to complete the encoding process using ohe_rand.   \n",
    "4.   Once done, use the train_and_evaluate() function to train the model. \n",
    "5.   Plot the results. \n",
    "6.   Finally compare the test results from clf_rand (obtained here) with the results from clf_mlp (state which did better, posting the scores and the random feature set selected)."
   ]
  },
  {
   "cell_type": "code",
   "execution_count": 26,
   "metadata": {
    "id": "zt6MtCNec_Ml"
   },
   "outputs": [
    {
     "name": "stdout",
     "output_type": "stream",
     "text": [
      "['weight', 'race', 'time_in_hospital', 'num_procedures', 'gender']\n"
     ]
    }
   ],
   "source": [
    "# ANSWER Q8\n",
    "\n",
    "import random\n",
    "\n",
    "# Setup a seed\n",
    "random.seed(15)\n",
    "\n",
    "# Setting up our one-hot encoder\n",
    "ohe_rand = OneHotEncoder(sparse=False, handle_unknown='ignore')\n",
    "\n",
    "# Since the dataset is quite large, try with a subset of features\n",
    "featureSet = ['race','gender','age', 'weight', 'time_in_hospital', 'num_lab_procedures', 'num_procedures',\n",
    " 'num_medications']\n",
    "\n",
    "# TO DO - Select a random four unique features from the list featureSet\n",
    "randomFeatures = random.sample(featureSet,5)\n",
    "print(randomFeatures)\n",
    "\n",
    "# TO DO - Finish the remaining encoding process\n",
    "ohe_rand.fit(X_train[randomFeatures].copy())\n",
    "X_train_rand_encoded = ohe_rand.transform(X_train[randomFeatures].copy())\n",
    "X_test_rand_encoded = ohe_rand.transform(X_test[randomFeatures].copy())"
   ]
  },
  {
   "cell_type": "code",
   "execution_count": 27,
   "metadata": {
    "id": "GQLcueVKdHWd"
   },
   "outputs": [
    {
     "name": "stdout",
     "output_type": "stream",
     "text": [
      "Epoch:1/10 -- 2021-11-01 20:38:42.466307\n"
     ]
    },
    {
     "name": "stderr",
     "output_type": "stream",
     "text": [
      "E:\\Anaconda\\lib\\site-packages\\sklearn\\neural_network\\_multilayer_perceptron.py:500: ConvergenceWarning: lbfgs failed to converge (status=1):\n",
      "STOP: TOTAL NO. of ITERATIONS REACHED LIMIT.\n",
      "\n",
      "Increase the number of iterations (max_iter) or scale the data as shown in:\n",
      "    https://scikit-learn.org/stable/modules/preprocessing.html\n",
      "  self.n_iter_ = _check_optimize_result(\"lbfgs\", opt_res, self.max_iter)\n"
     ]
    },
    {
     "name": "stdout",
     "output_type": "stream",
     "text": [
      "Epoch:2/10 -- 2021-11-01 20:39:21.841670\n"
     ]
    },
    {
     "name": "stderr",
     "output_type": "stream",
     "text": [
      "E:\\Anaconda\\lib\\site-packages\\sklearn\\neural_network\\_multilayer_perceptron.py:500: ConvergenceWarning: lbfgs failed to converge (status=1):\n",
      "STOP: TOTAL NO. of ITERATIONS REACHED LIMIT.\n",
      "\n",
      "Increase the number of iterations (max_iter) or scale the data as shown in:\n",
      "    https://scikit-learn.org/stable/modules/preprocessing.html\n",
      "  self.n_iter_ = _check_optimize_result(\"lbfgs\", opt_res, self.max_iter)\n"
     ]
    },
    {
     "name": "stdout",
     "output_type": "stream",
     "text": [
      "Epoch:3/10 -- 2021-11-01 20:40:01.043528\n"
     ]
    },
    {
     "name": "stderr",
     "output_type": "stream",
     "text": [
      "E:\\Anaconda\\lib\\site-packages\\sklearn\\neural_network\\_multilayer_perceptron.py:500: ConvergenceWarning: lbfgs failed to converge (status=1):\n",
      "STOP: TOTAL NO. of ITERATIONS REACHED LIMIT.\n",
      "\n",
      "Increase the number of iterations (max_iter) or scale the data as shown in:\n",
      "    https://scikit-learn.org/stable/modules/preprocessing.html\n",
      "  self.n_iter_ = _check_optimize_result(\"lbfgs\", opt_res, self.max_iter)\n"
     ]
    },
    {
     "name": "stdout",
     "output_type": "stream",
     "text": [
      "Epoch:4/10 -- 2021-11-01 20:40:42.039705\n"
     ]
    },
    {
     "name": "stderr",
     "output_type": "stream",
     "text": [
      "E:\\Anaconda\\lib\\site-packages\\sklearn\\neural_network\\_multilayer_perceptron.py:500: ConvergenceWarning: lbfgs failed to converge (status=1):\n",
      "STOP: TOTAL NO. of ITERATIONS REACHED LIMIT.\n",
      "\n",
      "Increase the number of iterations (max_iter) or scale the data as shown in:\n",
      "    https://scikit-learn.org/stable/modules/preprocessing.html\n",
      "  self.n_iter_ = _check_optimize_result(\"lbfgs\", opt_res, self.max_iter)\n"
     ]
    },
    {
     "name": "stdout",
     "output_type": "stream",
     "text": [
      "Epoch:5/10 -- 2021-11-01 20:41:21.080671\n"
     ]
    },
    {
     "name": "stderr",
     "output_type": "stream",
     "text": [
      "E:\\Anaconda\\lib\\site-packages\\sklearn\\neural_network\\_multilayer_perceptron.py:500: ConvergenceWarning: lbfgs failed to converge (status=1):\n",
      "STOP: TOTAL NO. of ITERATIONS REACHED LIMIT.\n",
      "\n",
      "Increase the number of iterations (max_iter) or scale the data as shown in:\n",
      "    https://scikit-learn.org/stable/modules/preprocessing.html\n",
      "  self.n_iter_ = _check_optimize_result(\"lbfgs\", opt_res, self.max_iter)\n"
     ]
    },
    {
     "name": "stdout",
     "output_type": "stream",
     "text": [
      "Epoch:6/10 -- 2021-11-01 20:41:57.222563\n"
     ]
    },
    {
     "name": "stderr",
     "output_type": "stream",
     "text": [
      "E:\\Anaconda\\lib\\site-packages\\sklearn\\neural_network\\_multilayer_perceptron.py:500: ConvergenceWarning: lbfgs failed to converge (status=1):\n",
      "STOP: TOTAL NO. of ITERATIONS REACHED LIMIT.\n",
      "\n",
      "Increase the number of iterations (max_iter) or scale the data as shown in:\n",
      "    https://scikit-learn.org/stable/modules/preprocessing.html\n",
      "  self.n_iter_ = _check_optimize_result(\"lbfgs\", opt_res, self.max_iter)\n"
     ]
    },
    {
     "name": "stdout",
     "output_type": "stream",
     "text": [
      "Epoch:7/10 -- 2021-11-01 20:42:33.696408\n"
     ]
    },
    {
     "name": "stderr",
     "output_type": "stream",
     "text": [
      "E:\\Anaconda\\lib\\site-packages\\sklearn\\neural_network\\_multilayer_perceptron.py:500: ConvergenceWarning: lbfgs failed to converge (status=1):\n",
      "STOP: TOTAL NO. of ITERATIONS REACHED LIMIT.\n",
      "\n",
      "Increase the number of iterations (max_iter) or scale the data as shown in:\n",
      "    https://scikit-learn.org/stable/modules/preprocessing.html\n",
      "  self.n_iter_ = _check_optimize_result(\"lbfgs\", opt_res, self.max_iter)\n"
     ]
    },
    {
     "name": "stdout",
     "output_type": "stream",
     "text": [
      "Epoch:8/10 -- 2021-11-01 20:43:10.543644\n"
     ]
    },
    {
     "name": "stderr",
     "output_type": "stream",
     "text": [
      "E:\\Anaconda\\lib\\site-packages\\sklearn\\neural_network\\_multilayer_perceptron.py:500: ConvergenceWarning: lbfgs failed to converge (status=1):\n",
      "STOP: TOTAL NO. of ITERATIONS REACHED LIMIT.\n",
      "\n",
      "Increase the number of iterations (max_iter) or scale the data as shown in:\n",
      "    https://scikit-learn.org/stable/modules/preprocessing.html\n",
      "  self.n_iter_ = _check_optimize_result(\"lbfgs\", opt_res, self.max_iter)\n"
     ]
    },
    {
     "name": "stdout",
     "output_type": "stream",
     "text": [
      "Epoch:9/10 -- 2021-11-01 20:43:48.071278\n"
     ]
    },
    {
     "name": "stderr",
     "output_type": "stream",
     "text": [
      "E:\\Anaconda\\lib\\site-packages\\sklearn\\neural_network\\_multilayer_perceptron.py:500: ConvergenceWarning: lbfgs failed to converge (status=1):\n",
      "STOP: TOTAL NO. of ITERATIONS REACHED LIMIT.\n",
      "\n",
      "Increase the number of iterations (max_iter) or scale the data as shown in:\n",
      "    https://scikit-learn.org/stable/modules/preprocessing.html\n",
      "  self.n_iter_ = _check_optimize_result(\"lbfgs\", opt_res, self.max_iter)\n"
     ]
    },
    {
     "name": "stdout",
     "output_type": "stream",
     "text": [
      "Epoch:10/10 -- 2021-11-01 20:44:27.647409\n"
     ]
    },
    {
     "name": "stderr",
     "output_type": "stream",
     "text": [
      "E:\\Anaconda\\lib\\site-packages\\sklearn\\neural_network\\_multilayer_perceptron.py:500: ConvergenceWarning: lbfgs failed to converge (status=1):\n",
      "STOP: TOTAL NO. of ITERATIONS REACHED LIMIT.\n",
      "\n",
      "Increase the number of iterations (max_iter) or scale the data as shown in:\n",
      "    https://scikit-learn.org/stable/modules/preprocessing.html\n",
      "  self.n_iter_ = _check_optimize_result(\"lbfgs\", opt_res, self.max_iter)\n"
     ]
    },
    {
     "data": {
      "image/png": "[encoded data removed]",
      "text/plain": [
       "<Figure size 432x288 with 1 Axes>"
      ]
     },
     "metadata": {
      "needs_background": "light"
     },
     "output_type": "display_data"
    },
    {
     "name": "stdout",
     "output_type": "stream",
     "text": [
      "[0.5453618631160025, 0.547106077728099, 0.5480027514371346, 0.5484695130938928, 0.5489117083476638, 0.5490959563700682, 0.5493170539969537, 0.5494153196089029, 0.5495750012283201, 0.5495750012283201]\n",
      "[0.536896924437457, 0.5326717107202515, 0.5340964920900069, 0.5331138842487964, 0.5335069273852805, 0.5326717107202515, 0.5323769283678884, 0.5330156234646752, 0.5329173626805542, 0.5323277979758279]\n"
     ]
    }
   ],
   "source": [
    "# ANSWER Q8 (continue)\n",
    "clf_rand = MLPClassifier(solver='lbfgs',  hidden_layer_sizes=(100), random_state=1, warm_start=True)\n",
    "\n",
    "# TO DO - Train the model (this will take a little while! Grab a snack or find something to do), plot the results\n",
    "train_scores_rand, test_scores_rand = train_and_evaluate(clf_rand,X_train_rand_encoded,y_train,X_test_rand_encoded,y_test,10)\n",
    "plotScores(train_scores_rand,test_scores_rand)\n",
    "print(train_scores_rand)\n",
    "print(test_scores_rand)"
   ]
  },
  {
   "cell_type": "markdown",
   "metadata": {
    "id": "9GpaHou-dPKb"
   },
   "source": [
    "**ANSWER Q8 (continue)**\n",
    "\n",
    "State the random feature set obtained. Compare the train and test results from clf_rand to clf_mlp, posting the scores from both.\n",
    "..."
   ]
  },
  {
   "cell_type": "markdown",
   "metadata": {
    "id": "oSulcCsF9yRR"
   },
   "source": [
    "**8. Gradient Descent and error curve**  \n",
    "We will do one final training of a MLP, but this time we will use solver=\"SGD\". Using the gradient descent, as you've learned it, allows us to look at the error (loss) curve during its training, as well as discuss different parameters, as we saw them in the video lectures."
   ]
  },
  {
   "cell_type": "code",
   "execution_count": 28,
   "metadata": {
    "id": "ZU_wlfdS9yRR"
   },
   "outputs": [],
   "source": [
    "clf_sgd = MLPClassifier(solver='sgd', alpha=1e-4, hidden_layer_sizes=(50,50), random_state=1, max_iter=300, learning_rate_init=0.1, warm_start=True)"
   ]
  },
  {
   "cell_type": "markdown",
   "metadata": {
    "id": "0jDmHiIZnLrX"
   },
   "source": [
    "**(TO DO) Q9 - 2 marks**\n",
    "\n",
    "Explain **in your own words** the parameters chosen above. What do they all mean and explain how the chosen values for each parameter will affect the model. For any that are unfamiliar, explore the official documentation and just provide a short sentence on what the parameter does based on its description and your existing knowledge."
   ]
  },
  {
   "cell_type": "markdown",
   "metadata": {
    "id": "jK3r8z0semp1"
   },
   "source": [
    "**ANSWER Q9**  \n",
    "\n",
    "*solver:*  \n",
    "*alpha:*  \n",
    "*hidden_layer_size:*  \n",
    "*random_state:*  \n",
    "*learning_rate_init:*  \n",
    "*warm_start:*  "
   ]
  },
  {
   "cell_type": "code",
   "execution_count": 29,
   "metadata": {
    "id": "Y8m5dVSh9yRR"
   },
   "outputs": [],
   "source": [
    "# Plots the loss from the trained model\n",
    "# NOTE: clf.loss_curve_ only exists when using solver=\"SGD\"\n",
    "def plot_loss(clf):\n",
    "    plt.plot(clf.loss_curve_)\n",
    "    plt.ylabel('Loss')\n",
    "    plt.xlabel('Epoch')\n",
    "    plt.show()"
   ]
  },
  {
   "cell_type": "markdown",
   "metadata": {
    "id": "ONmikqyd9yRS"
   },
   "source": [
    "**(TO DO) Q10 - 2 marks**   \n",
    "Train and evaluate the model using train_and_evaluate (for 1 epoch, using X_train_sf_encoded and X_test_sf_encoded). Display the plot exhibiting the loss function when being trained. Briefly describe what the loss function represents (and why it's important)."
   ]
  },
  {
   "cell_type": "code",
   "execution_count": 30,
   "metadata": {
    "id": "GcDUAp8vfpvK"
   },
   "outputs": [
    {
     "name": "stdout",
     "output_type": "stream",
     "text": [
      "Epoch:1/1 -- 2021-11-01 20:45:06.811505\n",
      "[0.6378298039601041]\n",
      "[0.48157610297730175]\n"
     ]
    },
    {
     "data": {
      "image/png": "[encoded data removed]",
      "text/plain": [
       "<Figure size 432x288 with 1 Axes>"
      ]
     },
     "metadata": {
      "needs_background": "light"
     },
     "output_type": "display_data"
    }
   ],
   "source": [
    "# ANSWER Q10 -\n",
    "# Train the model for *1 epoch* (with X_train_sf_encoded and X_test_sf_encoded)\n",
    "train_scores_sgd, test_scores_sgd = train_and_evaluate(clf_sgd,X_train_sf_encoded,y_train,X_test_sf_encoded,y_test,1)\n",
    "print(train_scores_sgd)\n",
    "print(test_scores_sgd)\n",
    "# Plot the loss of clf_sgd\n",
    "plot_loss(clf_sgd)"
   ]
  },
  {
   "cell_type": "markdown",
   "metadata": {
    "id": "D_zIGLd_fy4M"
   },
   "source": [
    "**ANSWER Q10 - (continue)**\\\n",
    "What does the loss curve represent and why is it important?\n",
    "\n",
    "It is a measurement of training error, it can help us to know the performences of the model"
   ]
  },
  {
   "cell_type": "markdown",
   "metadata": {
    "id": "li0Ym6px9yRS"
   },
   "source": [
    "***SIGNATURE:***\n",
    "My name is Tan Chen.\n",
    "My student number is 300072995.\n",
    "I certify being the author of this assignment."
   ]
  }
 ],
 "metadata": {
  "colab": {
   "collapsed_sections": [],
   "name": "CSI4106_MLP_Fall2021.ipynb",
   "provenance": []
  },
  "kernelspec": {
   "display_name": "Python 3",
   "language": "python",
   "name": "python3"
  },
  "language_info": {
   "codemirror_mode": {
    "name": "ipython",
    "version": 3
   },
   "file_extension": ".py",
   "mimetype": "text/x-python",
   "name": "python",
   "nbconvert_exporter": "python",
   "pygments_lexer": "ipython3",
   "version": "3.8.8"
  }
 },
 "nbformat": 4,
 "nbformat_minor": 1
}
